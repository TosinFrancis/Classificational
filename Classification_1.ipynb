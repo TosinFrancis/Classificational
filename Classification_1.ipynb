{
  "nbformat": 4,
  "nbformat_minor": 0,
  "metadata": {
    "colab": {
      "name": "Classification_1.ipynb",
      "provenance": []
    },
    "kernelspec": {
      "name": "python3",
      "display_name": "Python 3"
    },
    "language_info": {
      "name": "python"
    }
  },
  "cells": [
    {
      "cell_type": "code",
      "metadata": {
        "id": "ex3-ytXsJZJu",
        "colab": {
          "base_uri": "https://localhost:8080/"
        },
        "outputId": "d77f4598-ba5b-47c3-e908-b76d25d2c9e8"
      },
      "source": [
        "import imblearn"
      ],
      "execution_count": null,
      "outputs": [
        {
          "output_type": "stream",
          "name": "stderr",
          "text": [
            "/usr/local/lib/python3.7/dist-packages/sklearn/externals/six.py:31: FutureWarning: The module is deprecated in version 0.21 and will be removed in version 0.23 since we've dropped support for Python 2.7. Please rely on the official version of six (https://pypi.org/project/six/).\n",
            "  \"(https://pypi.org/project/six/).\", FutureWarning)\n",
            "/usr/local/lib/python3.7/dist-packages/sklearn/utils/deprecation.py:144: FutureWarning: The sklearn.neighbors.base module is  deprecated in version 0.22 and will be removed in version 0.24. The corresponding classes / functions should instead be imported from sklearn.neighbors. Anything that cannot be imported from sklearn.neighbors is now part of the private API.\n",
            "  warnings.warn(message, FutureWarning)\n"
          ]
        }
      ]
    },
    {
      "cell_type": "code",
      "metadata": {
        "id": "qnAfs7J7OyHw"
      },
      "source": [
        "import numpy as np\n",
        "import pandas as pd\n",
        "import matplotlib.pyplot as plt\n",
        "import seaborn as sns\n",
        "import matplotlib as mlt"
      ],
      "execution_count": null,
      "outputs": []
    },
    {
      "cell_type": "code",
      "metadata": {
        "colab": {
          "base_uri": "https://localhost:8080/"
        },
        "id": "WjHxdPrBPNnq",
        "outputId": "f5544269-738e-4388-f60a-2ad8ccf6595a"
      },
      "source": [
        "df = pd.read_csv('https://query.data.world/s/wh6j7rxy2hvrn4ml75ci62apk5hgae')"
      ],
      "execution_count": null,
      "outputs": [
        {
          "output_type": "stream",
          "name": "stderr",
          "text": [
            "/usr/local/lib/python3.7/dist-packages/IPython/core/interactiveshell.py:2718: DtypeWarning: Columns (6) have mixed types.Specify dtype option on import or set low_memory=False.\n",
            "  interactivity=interactivity, compiler=compiler, result=result)\n"
          ]
        }
      ]
    },
    {
      "cell_type": "code",
      "metadata": {
        "colab": {
          "base_uri": "https://localhost:8080/",
          "height": 419
        },
        "id": "vonTRK-OPRR4",
        "outputId": "8af4b870-4061-4619-c3e0-a454ad93aedc"
      },
      "source": [
        "df"
      ],
      "execution_count": null,
      "outputs": [
        {
          "output_type": "execute_result",
          "data": {
            "text/html": [
              "<div>\n",
              "<style scoped>\n",
              "    .dataframe tbody tr th:only-of-type {\n",
              "        vertical-align: middle;\n",
              "    }\n",
              "\n",
              "    .dataframe tbody tr th {\n",
              "        vertical-align: top;\n",
              "    }\n",
              "\n",
              "    .dataframe thead th {\n",
              "        text-align: right;\n",
              "    }\n",
              "</style>\n",
              "<table border=\"1\" class=\"dataframe\">\n",
              "  <thead>\n",
              "    <tr style=\"text-align: right;\">\n",
              "      <th></th>\n",
              "      <th>country</th>\n",
              "      <th>year</th>\n",
              "      <th>country_code</th>\n",
              "      <th>record</th>\n",
              "      <th>crop_land</th>\n",
              "      <th>grazing_land</th>\n",
              "      <th>forest_land</th>\n",
              "      <th>fishing_ground</th>\n",
              "      <th>built_up_land</th>\n",
              "      <th>carbon</th>\n",
              "      <th>total</th>\n",
              "      <th>QScore</th>\n",
              "    </tr>\n",
              "  </thead>\n",
              "  <tbody>\n",
              "    <tr>\n",
              "      <th>0</th>\n",
              "      <td>Armenia</td>\n",
              "      <td>1992</td>\n",
              "      <td>1</td>\n",
              "      <td>AreaPerCap</td>\n",
              "      <td>1.402924e-01</td>\n",
              "      <td>1.995463e-01</td>\n",
              "      <td>0.097188051</td>\n",
              "      <td>3.688847e-02</td>\n",
              "      <td>2.931995e-02</td>\n",
              "      <td>0.000000e+00</td>\n",
              "      <td>5.032351e-01</td>\n",
              "      <td>3A</td>\n",
              "    </tr>\n",
              "    <tr>\n",
              "      <th>1</th>\n",
              "      <td>Armenia</td>\n",
              "      <td>1992</td>\n",
              "      <td>1</td>\n",
              "      <td>AreaTotHA</td>\n",
              "      <td>4.830000e+05</td>\n",
              "      <td>6.870000e+05</td>\n",
              "      <td>334600</td>\n",
              "      <td>1.270000e+05</td>\n",
              "      <td>1.009430e+05</td>\n",
              "      <td>0.000000e+00</td>\n",
              "      <td>1.732543e+06</td>\n",
              "      <td>3A</td>\n",
              "    </tr>\n",
              "    <tr>\n",
              "      <th>2</th>\n",
              "      <td>Armenia</td>\n",
              "      <td>1992</td>\n",
              "      <td>1</td>\n",
              "      <td>BiocapPerCap</td>\n",
              "      <td>1.598044e-01</td>\n",
              "      <td>1.352610e-01</td>\n",
              "      <td>0.084003213</td>\n",
              "      <td>1.374213e-02</td>\n",
              "      <td>3.339780e-02</td>\n",
              "      <td>0.000000e+00</td>\n",
              "      <td>4.262086e-01</td>\n",
              "      <td>3A</td>\n",
              "    </tr>\n",
              "    <tr>\n",
              "      <th>3</th>\n",
              "      <td>Armenia</td>\n",
              "      <td>1992</td>\n",
              "      <td>1</td>\n",
              "      <td>BiocapTotGHA</td>\n",
              "      <td>5.501762e+05</td>\n",
              "      <td>4.656780e+05</td>\n",
              "      <td>289207.1078</td>\n",
              "      <td>4.731155e+04</td>\n",
              "      <td>1.149823e+05</td>\n",
              "      <td>0.000000e+00</td>\n",
              "      <td>1.467355e+06</td>\n",
              "      <td>3A</td>\n",
              "    </tr>\n",
              "    <tr>\n",
              "      <th>4</th>\n",
              "      <td>Armenia</td>\n",
              "      <td>1992</td>\n",
              "      <td>1</td>\n",
              "      <td>EFConsPerCap</td>\n",
              "      <td>3.875102e-01</td>\n",
              "      <td>1.894622e-01</td>\n",
              "      <td>1.26E-06</td>\n",
              "      <td>4.164833e-03</td>\n",
              "      <td>3.339780e-02</td>\n",
              "      <td>1.114093e+00</td>\n",
              "      <td>1.728629e+00</td>\n",
              "      <td>3A</td>\n",
              "    </tr>\n",
              "    <tr>\n",
              "      <th>...</th>\n",
              "      <td>...</td>\n",
              "      <td>...</td>\n",
              "      <td>...</td>\n",
              "      <td>...</td>\n",
              "      <td>...</td>\n",
              "      <td>...</td>\n",
              "      <td>...</td>\n",
              "      <td>...</td>\n",
              "      <td>...</td>\n",
              "      <td>...</td>\n",
              "      <td>...</td>\n",
              "      <td>...</td>\n",
              "    </tr>\n",
              "    <tr>\n",
              "      <th>72181</th>\n",
              "      <td>World</td>\n",
              "      <td>2016</td>\n",
              "      <td>5001</td>\n",
              "      <td>BiocapTotGHA</td>\n",
              "      <td>3.984702e+09</td>\n",
              "      <td>1.504757e+09</td>\n",
              "      <td>5.11176e+09</td>\n",
              "      <td>1.095445e+09</td>\n",
              "      <td>4.726163e+08</td>\n",
              "      <td>0.000000e+00</td>\n",
              "      <td>1.216928e+10</td>\n",
              "      <td>3A</td>\n",
              "    </tr>\n",
              "    <tr>\n",
              "      <th>72182</th>\n",
              "      <td>World</td>\n",
              "      <td>2016</td>\n",
              "      <td>5001</td>\n",
              "      <td>EFConsPerCap</td>\n",
              "      <td>5.336445e-01</td>\n",
              "      <td>1.402092e-01</td>\n",
              "      <td>0.273495</td>\n",
              "      <td>8.974253e-02</td>\n",
              "      <td>6.329435e-02</td>\n",
              "      <td>1.646235e+00</td>\n",
              "      <td>2.746619e+00</td>\n",
              "      <td>3A</td>\n",
              "    </tr>\n",
              "    <tr>\n",
              "      <th>72183</th>\n",
              "      <td>World</td>\n",
              "      <td>2016</td>\n",
              "      <td>5001</td>\n",
              "      <td>EFConsTotGHA</td>\n",
              "      <td>3.984702e+09</td>\n",
              "      <td>1.046937e+09</td>\n",
              "      <td>2.04218e+09</td>\n",
              "      <td>6.701039e+08</td>\n",
              "      <td>4.726163e+08</td>\n",
              "      <td>1.229237e+10</td>\n",
              "      <td>2.050891e+10</td>\n",
              "      <td>3A</td>\n",
              "    </tr>\n",
              "    <tr>\n",
              "      <th>72184</th>\n",
              "      <td>World</td>\n",
              "      <td>2016</td>\n",
              "      <td>5001</td>\n",
              "      <td>EFProdPerCap</td>\n",
              "      <td>5.336445e-01</td>\n",
              "      <td>1.402092e-01</td>\n",
              "      <td>0.273495</td>\n",
              "      <td>8.974253e-02</td>\n",
              "      <td>6.329435e-02</td>\n",
              "      <td>1.646235e+00</td>\n",
              "      <td>2.746619e+00</td>\n",
              "      <td>3A</td>\n",
              "    </tr>\n",
              "    <tr>\n",
              "      <th>72185</th>\n",
              "      <td>World</td>\n",
              "      <td>2016</td>\n",
              "      <td>5001</td>\n",
              "      <td>EFProdTotGHA</td>\n",
              "      <td>3.984702e+09</td>\n",
              "      <td>1.046937e+09</td>\n",
              "      <td>2.04218e+09</td>\n",
              "      <td>6.701039e+08</td>\n",
              "      <td>4.726163e+08</td>\n",
              "      <td>1.229237e+10</td>\n",
              "      <td>2.050891e+10</td>\n",
              "      <td>3A</td>\n",
              "    </tr>\n",
              "  </tbody>\n",
              "</table>\n",
              "<p>72186 rows × 12 columns</p>\n",
              "</div>"
            ],
            "text/plain": [
              "       country  year  country_code  ...        carbon         total  QScore\n",
              "0      Armenia  1992             1  ...  0.000000e+00  5.032351e-01      3A\n",
              "1      Armenia  1992             1  ...  0.000000e+00  1.732543e+06      3A\n",
              "2      Armenia  1992             1  ...  0.000000e+00  4.262086e-01      3A\n",
              "3      Armenia  1992             1  ...  0.000000e+00  1.467355e+06      3A\n",
              "4      Armenia  1992             1  ...  1.114093e+00  1.728629e+00      3A\n",
              "...        ...   ...           ...  ...           ...           ...     ...\n",
              "72181    World  2016          5001  ...  0.000000e+00  1.216928e+10      3A\n",
              "72182    World  2016          5001  ...  1.646235e+00  2.746619e+00      3A\n",
              "72183    World  2016          5001  ...  1.229237e+10  2.050891e+10      3A\n",
              "72184    World  2016          5001  ...  1.646235e+00  2.746619e+00      3A\n",
              "72185    World  2016          5001  ...  1.229237e+10  2.050891e+10      3A\n",
              "\n",
              "[72186 rows x 12 columns]"
            ]
          },
          "metadata": {},
          "execution_count": 5
        }
      ]
    },
    {
      "cell_type": "code",
      "metadata": {
        "colab": {
          "base_uri": "https://localhost:8080/"
        },
        "id": "xt7Hj-9EPW09",
        "outputId": "a0d575e4-d878-4ca7-af73-ca9f6baa6c19"
      },
      "source": [
        "df.isna().sum()"
      ],
      "execution_count": null,
      "outputs": [
        {
          "output_type": "execute_result",
          "data": {
            "text/plain": [
              "country               0\n",
              "year                  0\n",
              "country_code          0\n",
              "record                0\n",
              "crop_land         20472\n",
              "grazing_land      20472\n",
              "forest_land       20472\n",
              "fishing_ground    20473\n",
              "built_up_land     20473\n",
              "carbon            20473\n",
              "total                 9\n",
              "QScore                1\n",
              "dtype: int64"
            ]
          },
          "metadata": {},
          "execution_count": 6
        }
      ]
    },
    {
      "cell_type": "code",
      "metadata": {
        "id": "zy2qkiBqPdF3"
      },
      "source": [
        "df = df.dropna()"
      ],
      "execution_count": null,
      "outputs": []
    },
    {
      "cell_type": "code",
      "metadata": {
        "colab": {
          "base_uri": "https://localhost:8080/"
        },
        "id": "EUWpRFs8Pg1D",
        "outputId": "2ca2d380-356b-45e1-a5c6-2c2ff4c1acca"
      },
      "source": [
        "df.isna().sum()"
      ],
      "execution_count": null,
      "outputs": [
        {
          "output_type": "execute_result",
          "data": {
            "text/plain": [
              "country           0\n",
              "year              0\n",
              "country_code      0\n",
              "record            0\n",
              "crop_land         0\n",
              "grazing_land      0\n",
              "forest_land       0\n",
              "fishing_ground    0\n",
              "built_up_land     0\n",
              "carbon            0\n",
              "total             0\n",
              "QScore            0\n",
              "dtype: int64"
            ]
          },
          "metadata": {},
          "execution_count": 8
        }
      ]
    },
    {
      "cell_type": "code",
      "metadata": {
        "colab": {
          "base_uri": "https://localhost:8080/"
        },
        "id": "ntxkTdVrPkLT",
        "outputId": "f19e881e-1545-4458-8aba-ba1a3335c198"
      },
      "source": [
        "df[ 'QScore' ].value_counts() "
      ],
      "execution_count": null,
      "outputs": [
        {
          "output_type": "execute_result",
          "data": {
            "text/plain": [
              "3A    51473\n",
              "2A      224\n",
              "1A       16\n",
              "Name: QScore, dtype: int64"
            ]
          },
          "metadata": {},
          "execution_count": 9
        }
      ]
    },
    {
      "cell_type": "code",
      "metadata": {
        "colab": {
          "base_uri": "https://localhost:8080/"
        },
        "id": "EdYt7Mq8Pp6I",
        "outputId": "885fe992-5ebd-4ce0-9f81-dd873ebf4ca9"
      },
      "source": [
        "df[ 'QScore' ] = df[ 'QScore' ].replace([ '1A' ], '2A' )"
      ],
      "execution_count": null,
      "outputs": [
        {
          "output_type": "stream",
          "name": "stderr",
          "text": [
            "/usr/local/lib/python3.7/dist-packages/ipykernel_launcher.py:1: SettingWithCopyWarning: \n",
            "A value is trying to be set on a copy of a slice from a DataFrame.\n",
            "Try using .loc[row_indexer,col_indexer] = value instead\n",
            "\n",
            "See the caveats in the documentation: https://pandas.pydata.org/pandas-docs/stable/user_guide/indexing.html#returning-a-view-versus-a-copy\n",
            "  \"\"\"Entry point for launching an IPython kernel.\n"
          ]
        }
      ]
    },
    {
      "cell_type": "code",
      "metadata": {
        "colab": {
          "base_uri": "https://localhost:8080/"
        },
        "id": "mem25bmiPuWu",
        "outputId": "600bb130-975f-4a34-a756-cbb6b049fb37"
      },
      "source": [
        "df[ 'QScore' ].value_counts()"
      ],
      "execution_count": null,
      "outputs": [
        {
          "output_type": "execute_result",
          "data": {
            "text/plain": [
              "3A    51473\n",
              "2A      240\n",
              "Name: QScore, dtype: int64"
            ]
          },
          "metadata": {},
          "execution_count": 11
        }
      ]
    },
    {
      "cell_type": "code",
      "metadata": {
        "id": "ZRvVkRHEPzbm"
      },
      "source": [
        "df_2A = df[df.QScore== '2A' ]\n",
        "df_3A = df[df.QScore== '3A' ].sample( 350 )\n",
        "data_df = df_2A.append(df_3A) "
      ],
      "execution_count": null,
      "outputs": []
    },
    {
      "cell_type": "code",
      "metadata": {
        "colab": {
          "base_uri": "https://localhost:8080/"
        },
        "id": "SizgcO0HP3ZO",
        "outputId": "7a397788-a247-4599-f47f-5a02632e3a81"
      },
      "source": [
        "import sklearn.utils\n",
        "data_df = sklearn.utils.shuffle(data_df)\n",
        "data_df = data_df.reset_index(drop= True )\n",
        "data_df.shape\n",
        "data_df.QScore.value_counts()"
      ],
      "execution_count": null,
      "outputs": [
        {
          "output_type": "execute_result",
          "data": {
            "text/plain": [
              "3A    350\n",
              "2A    240\n",
              "Name: QScore, dtype: int64"
            ]
          },
          "metadata": {},
          "execution_count": 13
        }
      ]
    },
    {
      "cell_type": "code",
      "metadata": {
        "id": "XnWU7FKEP7Yg"
      },
      "source": [
        "data_df = data_df.drop(columns=[ 'country_code' , 'country' , 'year' ])"
      ],
      "execution_count": null,
      "outputs": []
    },
    {
      "cell_type": "code",
      "metadata": {
        "id": "T_r__KLzP_TV"
      },
      "source": [
        "X = data_df.drop(columns= 'QScore' )\n",
        "y = data_df[ 'QScore' ]"
      ],
      "execution_count": null,
      "outputs": []
    },
    {
      "cell_type": "code",
      "metadata": {
        "colab": {
          "base_uri": "https://localhost:8080/"
        },
        "id": "DaYnuN0PQHem",
        "outputId": "6a373fb1-1339-4ca9-d674-73239c7f78b2"
      },
      "source": [
        "from sklearn.model_selection import train_test_split\n",
        "x_train, x_test, y_train, y_test = train_test_split(X, y, test_size= 0.3 , random_state= 0 )\n",
        "y_train.value_counts() "
      ],
      "execution_count": null,
      "outputs": [
        {
          "output_type": "execute_result",
          "data": {
            "text/plain": [
              "3A    251\n",
              "2A    162\n",
              "Name: QScore, dtype: int64"
            ]
          },
          "metadata": {},
          "execution_count": 16
        }
      ]
    },
    {
      "cell_type": "code",
      "metadata": {
        "colab": {
          "base_uri": "https://localhost:8080/"
        },
        "id": "qIM2v9-sQKb6",
        "outputId": "d85cd178-1352-427c-bc26-4115bd3dcc72"
      },
      "source": [
        "#There is still an imbalance in the class distribution. For this, we use SMOTE only on the training data to handle this.\n",
        "#encode categorical variable\n",
        "from sklearn.preprocessing import LabelEncoder\n",
        "encoder = LabelEncoder()\n",
        "x_train.record = encoder.fit_transform(x_train.record)\n",
        "x_test.record = encoder.transform(x_test.record)"
      ],
      "execution_count": null,
      "outputs": [
        {
          "output_type": "stream",
          "name": "stderr",
          "text": [
            "/usr/local/lib/python3.7/dist-packages/pandas/core/generic.py:5170: SettingWithCopyWarning: \n",
            "A value is trying to be set on a copy of a slice from a DataFrame.\n",
            "Try using .loc[row_indexer,col_indexer] = value instead\n",
            "\n",
            "See the caveats in the documentation: https://pandas.pydata.org/pandas-docs/stable/user_guide/indexing.html#returning-a-view-versus-a-copy\n",
            "  self[name] = value\n"
          ]
        }
      ]
    },
    {
      "cell_type": "code",
      "metadata": {
        "id": "uOcJXk52zgCM"
      },
      "source": [
        ""
      ],
      "execution_count": null,
      "outputs": []
    },
    {
      "cell_type": "code",
      "metadata": {
        "colab": {
          "base_uri": "https://localhost:8080/"
        },
        "id": "gvbvoIN1QUTW",
        "outputId": "a0271f19-047b-4920-b10b-0f76aab01566"
      },
      "source": [
        "import imblearn\n",
        "from imblearn.over_sampling import SMOTE\n",
        "smote = SMOTE(random_state= 1 )\n",
        "x_train_balanced, y_balanced = smote.fit_sample(x_train, y_train)"
      ],
      "execution_count": null,
      "outputs": [
        {
          "output_type": "stream",
          "name": "stderr",
          "text": [
            "/usr/local/lib/python3.7/dist-packages/sklearn/utils/deprecation.py:87: FutureWarning: Function safe_indexing is deprecated; safe_indexing is deprecated in version 0.22 and will be removed in version 0.24.\n",
            "  warnings.warn(msg, category=FutureWarning)\n"
          ]
        }
      ]
    },
    {
      "cell_type": "code",
      "metadata": {
        "id": "cuWhdeSDofXF"
      },
      "source": [
        "x_train_balanced = pd.DataFrame(x_train_balanced, columns=['record','crop_land','grazing_land','forest_land','fishing_ground','built_up_land','carbon','total'])"
      ],
      "execution_count": null,
      "outputs": []
    },
    {
      "cell_type": "code",
      "metadata": {
        "id": "YWq70fOGSaaF"
      },
      "source": [
        "x_train_balanced.drop(columns=['record'], inplace=True)"
      ],
      "execution_count": null,
      "outputs": []
    },
    {
      "cell_type": "code",
      "metadata": {
        "id": "0voMhXzUTLAs",
        "colab": {
          "base_uri": "https://localhost:8080/",
          "height": 419
        },
        "outputId": "3b36da3a-065c-4a19-9693-3ddebe4176f3"
      },
      "source": [
        "x_train_balanced"
      ],
      "execution_count": null,
      "outputs": [
        {
          "output_type": "execute_result",
          "data": {
            "text/html": [
              "<div>\n",
              "<style scoped>\n",
              "    .dataframe tbody tr th:only-of-type {\n",
              "        vertical-align: middle;\n",
              "    }\n",
              "\n",
              "    .dataframe tbody tr th {\n",
              "        vertical-align: top;\n",
              "    }\n",
              "\n",
              "    .dataframe thead th {\n",
              "        text-align: right;\n",
              "    }\n",
              "</style>\n",
              "<table border=\"1\" class=\"dataframe\">\n",
              "  <thead>\n",
              "    <tr style=\"text-align: right;\">\n",
              "      <th></th>\n",
              "      <th>crop_land</th>\n",
              "      <th>grazing_land</th>\n",
              "      <th>forest_land</th>\n",
              "      <th>fishing_ground</th>\n",
              "      <th>built_up_land</th>\n",
              "      <th>carbon</th>\n",
              "      <th>total</th>\n",
              "    </tr>\n",
              "  </thead>\n",
              "  <tbody>\n",
              "    <tr>\n",
              "      <th>0</th>\n",
              "      <td>1.232376e+00</td>\n",
              "      <td>1.104470e-01</td>\n",
              "      <td>4.556859e-01</td>\n",
              "      <td>2.451573e-01</td>\n",
              "      <td>7.012531e-02</td>\n",
              "      <td>3.602440e+00</td>\n",
              "      <td>5.716232e+00</td>\n",
              "    </tr>\n",
              "    <tr>\n",
              "      <th>1</th>\n",
              "      <td>5.258361e-01</td>\n",
              "      <td>1.293997e-01</td>\n",
              "      <td>3.402388e-01</td>\n",
              "      <td>9.222432e-02</td>\n",
              "      <td>6.326002e-02</td>\n",
              "      <td>0.000000e+00</td>\n",
              "      <td>1.150959e+00</td>\n",
              "    </tr>\n",
              "    <tr>\n",
              "      <th>2</th>\n",
              "      <td>9.268401e+04</td>\n",
              "      <td>7.419113e+03</td>\n",
              "      <td>4.431773e+03</td>\n",
              "      <td>1.231512e+06</td>\n",
              "      <td>0.000000e+00</td>\n",
              "      <td>1.623916e+07</td>\n",
              "      <td>1.757521e+07</td>\n",
              "    </tr>\n",
              "    <tr>\n",
              "      <th>3</th>\n",
              "      <td>1.420139e-01</td>\n",
              "      <td>3.688212e-03</td>\n",
              "      <td>2.129496e-02</td>\n",
              "      <td>5.020847e-02</td>\n",
              "      <td>4.806317e-02</td>\n",
              "      <td>0.000000e+00</td>\n",
              "      <td>2.652687e-01</td>\n",
              "    </tr>\n",
              "    <tr>\n",
              "      <th>4</th>\n",
              "      <td>9.769440e+05</td>\n",
              "      <td>2.146990e+06</td>\n",
              "      <td>1.195384e+06</td>\n",
              "      <td>1.361632e+06</td>\n",
              "      <td>2.249313e+05</td>\n",
              "      <td>0.000000e+00</td>\n",
              "      <td>5.905882e+06</td>\n",
              "    </tr>\n",
              "    <tr>\n",
              "      <th>...</th>\n",
              "      <td>...</td>\n",
              "      <td>...</td>\n",
              "      <td>...</td>\n",
              "      <td>...</td>\n",
              "      <td>...</td>\n",
              "      <td>...</td>\n",
              "      <td>...</td>\n",
              "    </tr>\n",
              "    <tr>\n",
              "      <th>497</th>\n",
              "      <td>1.949121e+05</td>\n",
              "      <td>8.897564e+04</td>\n",
              "      <td>1.121062e+06</td>\n",
              "      <td>1.046611e+06</td>\n",
              "      <td>4.824638e+04</td>\n",
              "      <td>0.000000e+00</td>\n",
              "      <td>2.499807e+06</td>\n",
              "    </tr>\n",
              "    <tr>\n",
              "      <th>498</th>\n",
              "      <td>7.865308e-02</td>\n",
              "      <td>1.231667e-01</td>\n",
              "      <td>4.311056e-02</td>\n",
              "      <td>2.070599e-01</td>\n",
              "      <td>1.385047e-01</td>\n",
              "      <td>0.000000e+00</td>\n",
              "      <td>5.904950e-01</td>\n",
              "    </tr>\n",
              "    <tr>\n",
              "      <th>499</th>\n",
              "      <td>1.908655e-01</td>\n",
              "      <td>1.263081e-01</td>\n",
              "      <td>2.071314e-01</td>\n",
              "      <td>1.284148e-01</td>\n",
              "      <td>1.855869e-02</td>\n",
              "      <td>6.948455e-01</td>\n",
              "      <td>1.366124e+00</td>\n",
              "    </tr>\n",
              "    <tr>\n",
              "      <th>500</th>\n",
              "      <td>4.906285e-01</td>\n",
              "      <td>1.740150e-01</td>\n",
              "      <td>2.716757e-01</td>\n",
              "      <td>2.034150e+00</td>\n",
              "      <td>2.518899e-02</td>\n",
              "      <td>4.457341e-01</td>\n",
              "      <td>3.441393e+00</td>\n",
              "    </tr>\n",
              "    <tr>\n",
              "      <th>501</th>\n",
              "      <td>4.554813e+06</td>\n",
              "      <td>6.593720e+05</td>\n",
              "      <td>1.483011e+06</td>\n",
              "      <td>7.571372e+04</td>\n",
              "      <td>1.032882e+06</td>\n",
              "      <td>1.182041e+05</td>\n",
              "      <td>7.923995e+06</td>\n",
              "    </tr>\n",
              "  </tbody>\n",
              "</table>\n",
              "<p>502 rows × 7 columns</p>\n",
              "</div>"
            ],
            "text/plain": [
              "        crop_land  grazing_land  ...        carbon         total\n",
              "0    1.232376e+00  1.104470e-01  ...  3.602440e+00  5.716232e+00\n",
              "1    5.258361e-01  1.293997e-01  ...  0.000000e+00  1.150959e+00\n",
              "2    9.268401e+04  7.419113e+03  ...  1.623916e+07  1.757521e+07\n",
              "3    1.420139e-01  3.688212e-03  ...  0.000000e+00  2.652687e-01\n",
              "4    9.769440e+05  2.146990e+06  ...  0.000000e+00  5.905882e+06\n",
              "..            ...           ...  ...           ...           ...\n",
              "497  1.949121e+05  8.897564e+04  ...  0.000000e+00  2.499807e+06\n",
              "498  7.865308e-02  1.231667e-01  ...  0.000000e+00  5.904950e-01\n",
              "499  1.908655e-01  1.263081e-01  ...  6.948455e-01  1.366124e+00\n",
              "500  4.906285e-01  1.740150e-01  ...  4.457341e-01  3.441393e+00\n",
              "501  4.554813e+06  6.593720e+05  ...  1.182041e+05  7.923995e+06\n",
              "\n",
              "[502 rows x 7 columns]"
            ]
          },
          "metadata": {},
          "execution_count": 22
        }
      ]
    },
    {
      "cell_type": "code",
      "metadata": {
        "id": "tPRGqdVgQom6"
      },
      "source": [
        ""
      ],
      "execution_count": null,
      "outputs": []
    },
    {
      "cell_type": "code",
      "metadata": {
        "id": "WyTXmPT4DCkF"
      },
      "source": [
        "from sklearn.preprocessing import MinMaxScaler\n",
        "scaler = MinMaxScaler()\n",
        "normalised_train_df = scaler.fit_transform(x_train_balanced)\n",
        "normalised_train_df = pd.DataFrame(normalised_train_df)\n",
        "normalised_train_df = x_train_balanced"
      ],
      "execution_count": null,
      "outputs": []
    },
    {
      "cell_type": "code",
      "metadata": {
        "id": "6UFJML0IVyUH"
      },
      "source": [
        "from sklearn.preprocessing import MinMaxScaler\n",
        "scaler = MinMaxScaler()\n",
        "normalised_test_df = scaler.fit_transform(x_test)\n",
        "normalised_test_df = pd.DataFrame(normalised_test_df)\n",
        "normalised_test_df = x_test"
      ],
      "execution_count": null,
      "outputs": []
    },
    {
      "cell_type": "code",
      "metadata": {
        "colab": {
          "base_uri": "https://localhost:8080/"
        },
        "id": "MNEqtLKS1Hsz",
        "outputId": "7884f2d3-9587-4043-cb6c-177456236870"
      },
      "source": [
        "#Logistic Regression\n",
        "from sklearn.linear_model import LogisticRegression\n",
        "log_reg = LogisticRegression()\n",
        "log_reg.fit(normalised_train_df, y_balanced) \n"
      ],
      "execution_count": null,
      "outputs": [
        {
          "output_type": "execute_result",
          "data": {
            "text/plain": [
              "LogisticRegression(C=1.0, class_weight=None, dual=False, fit_intercept=True,\n",
              "                   intercept_scaling=1, l1_ratio=None, max_iter=100,\n",
              "                   multi_class='auto', n_jobs=None, penalty='l2',\n",
              "                   random_state=None, solver='lbfgs', tol=0.0001, verbose=0,\n",
              "                   warm_start=False)"
            ]
          },
          "metadata": {},
          "execution_count": 25
        }
      ]
    },
    {
      "cell_type": "code",
      "metadata": {
        "id": "Ps9JxeaxiIH_"
      },
      "source": [
        "from sklearn.metrics import recall_score, accuracy_score, precision_score, f1_score, confusion_matrix"
      ],
      "execution_count": null,
      "outputs": []
    },
    {
      "cell_type": "code",
      "metadata": {
        "id": "RjM7Jd44h-6R"
      },
      "source": [
        ""
      ],
      "execution_count": null,
      "outputs": []
    },
    {
      "cell_type": "code",
      "metadata": {
        "colab": {
          "base_uri": "https://localhost:8080/"
        },
        "id": "s-YXHuNIz-uI",
        "outputId": "769b54bb-7ba6-448d-f6d1-d527f20fdab6"
      },
      "source": [
        "from sklearn.model_selection import cross_val_score\n",
        "scores = cross_val_score(log_reg, normalised_train_df, y_balanced, cv= 5 , scoring= 'f1_macro' )\n",
        "scores \n"
      ],
      "execution_count": null,
      "outputs": [
        {
          "output_type": "execute_result",
          "data": {
            "text/plain": [
              "array([0.40704501, 0.3525641 , 0.41203076, 0.38557994, 0.37629938])"
            ]
          },
          "metadata": {},
          "execution_count": 27
        }
      ]
    },
    {
      "cell_type": "code",
      "metadata": {
        "id": "wR410RIxz-qp"
      },
      "source": [
        "from sklearn.model_selection import KFold\n",
        "kf = KFold(n_splits= 5 )\n",
        "\n",
        "kf.split(normalised_train_df)\n",
        "f1_scores = []\n",
        "#run for every split\n",
        "for train_index, test_index in kf.split(normalised_train_df):\n",
        "  x_train, x_test = normalised_train_df.iloc[train_index], normalised_train_df.iloc[test_index]\n",
        "  y_train, y_test = y_balanced[train_index], y_balanced[test_index]\n",
        "  model = LogisticRegression().fit(x_train, y_train)\n",
        " #save result to list\n",
        "  f1_scores.append(f1_score(y_true=y_test, y_pred=model.predict(x_test), pos_label= '2A' )* 100 )"
      ],
      "execution_count": null,
      "outputs": []
    },
    {
      "cell_type": "code",
      "metadata": {
        "id": "2WJOYpYGz-oQ"
      },
      "source": [
        "from sklearn.model_selection import StratifiedKFold\n",
        "skf = StratifiedKFold(n_splits= 5 , shuffle= True , random_state= 1 )\n",
        "f1_scores = []\n",
        "#run for every split\n",
        "for train_index, test_index in skf.split(normalised_train_df, y_balanced):\n",
        "  x_train, x_test = np.array(normalised_train_df)[train_index], np.array(normalised_train_df)[test_index]\n",
        "  y_train, y_test = y_balanced[train_index], y_balanced[test_index]\n",
        "  model = LogisticRegression().fit(x_train, y_train)\n",
        "  #save result to list\n",
        "  f1_scores.append(f1_score(y_true=y_test, y_pred=model.predict(x_test), pos_label= '2A' ))"
      ],
      "execution_count": null,
      "outputs": []
    },
    {
      "cell_type": "code",
      "metadata": {
        "id": "yeWoXhE0z-lf"
      },
      "source": [
        "from sklearn.model_selection import LeaveOneOut\n",
        "loo = LeaveOneOut()\n",
        "scores = cross_val_score(LogisticRegression(), normalised_train_df, y_balanced, cv=loo,\n",
        " scoring= 'f1_macro' )\n",
        "average_score = scores.mean() * 100"
      ],
      "execution_count": null,
      "outputs": []
    },
    {
      "cell_type": "code",
      "metadata": {
        "colab": {
          "base_uri": "https://localhost:8080/"
        },
        "id": "afKFAJC1z-in",
        "outputId": "a4c80cbe-fe20-4b3c-e9d6-388466d800de"
      },
      "source": [
        "new_predictions = log_reg.predict(normalised_test_df)\n",
        "cnf_mat = confusion_matrix(y_true=y_test, y_pred=new_predictions, labels=[ '2A' , '3A' ])\n",
        "cnf_mat "
      ],
      "execution_count": null,
      "outputs": [
        {
          "output_type": "execute_result",
          "data": {
            "text/plain": [
              "array([[ 0, 50],\n",
              "       [ 0, 50]])"
            ]
          },
          "metadata": {},
          "execution_count": 37
        }
      ]
    },
    {
      "cell_type": "code",
      "metadata": {
        "colab": {
          "base_uri": "https://localhost:8080/"
        },
        "id": "oY5qMp6Iz-fT",
        "outputId": "7eb3deb9-f791-47d0-8583-44d940f5e98a"
      },
      "source": [
        "accuracy = accuracy_score(y_true=y_test, y_pred=new_predictions)\n",
        "print( 'Accuracy: {}' .format(round(accuracy* 100 ), 2 ))"
      ],
      "execution_count": null,
      "outputs": [
        {
          "output_type": "stream",
          "name": "stdout",
          "text": [
            "Accuracy: 50\n"
          ]
        }
      ]
    },
    {
      "cell_type": "code",
      "metadata": {
        "colab": {
          "base_uri": "https://localhost:8080/"
        },
        "id": "kV4gsWY0z-TW",
        "outputId": "2b3d600b-466f-49fa-8780-4a468ffac10b"
      },
      "source": [
        "precision = precision_score(y_true=y_test, y_pred=new_predictions, pos_label= '2A' )\n",
        "print( 'Precision: {}' .format(round(precision* 100 ), 2 )) "
      ],
      "execution_count": null,
      "outputs": [
        {
          "output_type": "stream",
          "name": "stdout",
          "text": [
            "Precision: 0\n"
          ]
        },
        {
          "output_type": "stream",
          "name": "stderr",
          "text": [
            "/usr/local/lib/python3.7/dist-packages/sklearn/metrics/_classification.py:1272: UndefinedMetricWarning: Precision is ill-defined and being set to 0.0 due to no predicted samples. Use `zero_division` parameter to control this behavior.\n",
            "  _warn_prf(average, modifier, msg_start, len(result))\n"
          ]
        }
      ]
    },
    {
      "cell_type": "code",
      "metadata": {
        "colab": {
          "base_uri": "https://localhost:8080/"
        },
        "id": "wvcJ3b_Jz9-B",
        "outputId": "1999f586-e784-441b-80eb-c4f4cfa362b9"
      },
      "source": [
        "recall = recall_score(y_true=y_test, y_pred=new_predictions, pos_label= '2A' )\n",
        "print( 'Recall: {}' .format(round(recall* 100 ), 2 ))"
      ],
      "execution_count": null,
      "outputs": [
        {
          "output_type": "stream",
          "name": "stdout",
          "text": [
            "Recall: 0\n"
          ]
        }
      ]
    },
    {
      "cell_type": "code",
      "metadata": {
        "colab": {
          "base_uri": "https://localhost:8080/"
        },
        "id": "xjrMoHyDWkaV",
        "outputId": "4c79adb5-26f2-4176-9d49-31446526f0a3"
      },
      "source": [
        "f1 = f1_score(y_true=y_test, y_pred=new_predictions, pos_label= '2A' )\n",
        "print( 'F1: {}' .format(round(f1* 100 ), 2 ))"
      ],
      "execution_count": null,
      "outputs": [
        {
          "output_type": "stream",
          "name": "stdout",
          "text": [
            "F1: 0\n"
          ]
        }
      ]
    },
    {
      "cell_type": "markdown",
      "metadata": {
        "id": "cb19Z8ZwQOal"
      },
      "source": [
        " "
      ]
    }
  ]
}